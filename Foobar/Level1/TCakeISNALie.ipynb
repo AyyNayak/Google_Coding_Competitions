{
  "nbformat": 4,
  "nbformat_minor": 0,
  "metadata": {
    "colab": {
      "name": "Medium.ipynb",
      "provenance": [],
      "authorship_tag": "ABX9TyMbmZqwcutnWYPHFHH97BRV",
      "include_colab_link": true
    },
    "kernelspec": {
      "name": "python3",
      "display_name": "Python 3"
    }
  },
  "cells": [
    {
      "cell_type": "markdown",
      "metadata": {
        "id": "view-in-github",
        "colab_type": "text"
      },
      "source": [
        "<a href=\"https://colab.research.google.com/github/AyyNayak/Google_Coding_Competitions/blob/master/TCakeISNALie.ipynb\" target=\"_parent\"><img src=\"https://colab.research.google.com/assets/colab-badge.svg\" alt=\"Open In Colab\"/></a>"
      ]
    },
    {
      "cell_type": "markdown",
      "metadata": {
        "id": "3Z96X3SB8pyC"
      },
      "source": [
        "#Readme\n",
        "I am going to store code answers to foobar(update version here) here."
      ]
    },
    {
      "cell_type": "markdown",
      "metadata": {
        "id": "eqhz73L19dyK"
      },
      "source": [
        "#1 The cake is not a lie"
      ]
    },
    {
      "cell_type": "code",
      "metadata": {
        "id": "YzPaQxgH9YhB"
      },
      "source": [
        "def solution(s):\n",
        "    if len(s) < 1: return 0\n",
        "    if len(s) == 1: return 1\n",
        "\n",
        "    p1 = 0\n",
        "    p2 = 1\n",
        "    orig = 1\n",
        "\n",
        "    while p2 < len(s):\n",
        "        while s[p1] != s[p2]:\n",
        "            p2 += 1\n",
        "            if p2 >= len(s):\n",
        "                return 1\n",
        "\n",
        "        if len(s)%p2 == 0:\n",
        "            orig = p2\n",
        "            while p2 < len(s) and s[p1] == s[p2]:\n",
        "                p1 += 1\n",
        "                p2 += 1\n",
        "            if p2 >= len(s):\n",
        "                return int(len(s)/orig)\n",
        "\n",
        "        p1 = 0\n",
        "        p2 += 1\n",
        "\n",
        "    return 1"
      ],
      "execution_count": null,
      "outputs": []
    }
  ]
}
